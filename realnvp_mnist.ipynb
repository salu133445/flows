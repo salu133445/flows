{
  "nbformat": 4,
  "nbformat_minor": 0,
  "metadata": {
    "kernelspec": {
      "display_name": "Python 3",
      "language": "python",
      "name": "python3"
    },
    "language_info": {
      "codemirror_mode": {
        "name": "ipython",
        "version": 3
      },
      "file_extension": ".py",
      "mimetype": "text/x-python",
      "name": "python",
      "nbconvert_exporter": "python",
      "pygments_lexer": "ipython3",
      "version": "3.7.6-final"
    },
    "colab": {
      "name": "realnvp_mnist.ipynb",
      "provenance": [],
      "collapsed_sections": []
    },
    "accelerator": "GPU"
  },
  "cells": [
    {
      "cell_type": "markdown",
      "metadata": {
        "id": "iX8IfPomKY-z"
      },
      "source": [
        "# RealNVP on MNIST\n",
        "\n",
        "[![Open In Colab](https://colab.research.google.com/assets/colab-badge.svg)](https://colab.research.google.com/github/salu133445/flows/blob/main/realnvp_mnist.ipynb)\n",
        "\n",
        "Code adapted from https://github.com/LukasRinder/normalizing-flows."
      ]
    },
    {
      "source": [
        "## Imports"
      ],
      "cell_type": "markdown",
      "metadata": {}
    },
    {
      "cell_type": "code",
      "metadata": {
        "id": "LKt_V8yO85el"
      },
      "source": [
        "import os\n",
        "import sys\n",
        "import time\n",
        "\n",
        "import numpy as np\n",
        "import tensorflow as tf\n",
        "import tensorflow_datasets as tfds\n",
        "import tensorflow_probability as tfp\n",
        "import matplotlib.pyplot as plt\n",
        "\n",
        "tfb = tfp.bijectors\n",
        "tfd = tfp.distributions\n",
        "tf.keras.backend.set_floatx(\"float32\")"
      ],
      "execution_count": 1,
      "outputs": []
    },
    {
      "source": [
        "## Functions"
      ],
      "cell_type": "markdown",
      "metadata": {}
    },
    {
      "cell_type": "code",
      "metadata": {
        "id": "_EZBqmLJ85eo"
      },
      "source": [
        "def logit(z, beta=10e-6):\n",
        "    \"\"\"\n",
        "    Conversion to logit space according to equation (24) in [Papamakarios et\n",
        "    al. (2017)]. Includes scaling the input image to [0, 1] and conversion to\n",
        "    logit space.\n",
        "\n",
        "    :param z: Input tensor, e.g. image. Type: tf.float32.\n",
        "    :param beta: Small value. Default: 10e-6.\n",
        "    :return: Input tensor in logit space.\n",
        "    \"\"\"\n",
        "    inter = beta + (1 - 2 * beta) * (z / 256)\n",
        "    return tf.math.log(inter / (1 - inter))  # logit function\n",
        "\n",
        "\n",
        "def inverse_logit(x, beta=10e-6):\n",
        "    \"\"\"\n",
        "    Reverts the preprocessing steps and conversion to logit space and outputs\n",
        "    an image in range [0, 256]. Inverse of equation (24) in [Papamakarios et\n",
        "    al. (2017)].\n",
        "    \n",
        "    :param x: Input tensor in logit space. Type: tf.float32.\n",
        "    :param beta: Small value. Default: 10e-6.\n",
        "    :return: Input tensor in logit space.\n",
        "    \"\"\"\n",
        "    x = tf.math.sigmoid(x)\n",
        "    return (x - beta) * 256 / (1 - 2 * beta)\n",
        "\n",
        "def load_and_preprocess_mnist(\n",
        "    logit_space=True, batch_size=128, shuffle=True, classes=-1, channels=False\n",
        "):\n",
        "    \"\"\"\n",
        "    Loads and preprocesses the MNIST dataset. Train set: 50000, val set: 10000,\n",
        "    test set: 10000.\n",
        "\n",
        "    :param logit_space: If True, the data is converted to logit space.\n",
        "    :param batch_size: batch size\n",
        "    :param shuffle: bool. If True, dataset will be shuffled.\n",
        "    :param classes: int of class to take, defaults to -1 = ALL\n",
        "    :return: Three batched TensorFlow datasets:\n",
        "      batched_train_data, batched_val_data, batched_test_data.\n",
        "    \"\"\"\n",
        "    (x_train, y_train), (x_test, y_test) = tf.keras.datasets.mnist.load_data()\n",
        "\n",
        "    # reserve last 10000 training samples as validation set\n",
        "    x_train, x_val = x_train[:-10000], x_train[-10000:]\n",
        "    y_train, y_val = y_train[:-10000], y_train[-10000:]\n",
        "\n",
        "    # if logit_space: convert to logit space, else: scale to [0, 1]\n",
        "    if logit_space:\n",
        "        x_train = logit(tf.cast(x_train, tf.float32))\n",
        "        x_test = logit(tf.cast(x_test, tf.float32))\n",
        "        x_val = logit(tf.cast(x_val, tf.float32))\n",
        "        interval = 256\n",
        "    else:\n",
        "        x_train = tf.cast(x_train / 256, tf.float32)\n",
        "        x_test = tf.cast(x_test / 256, tf.float32)\n",
        "        x_val = tf.cast(x_val / 256, tf.float32)\n",
        "        interval = 1\n",
        "\n",
        "    if classes == -1:\n",
        "        pass\n",
        "    else:\n",
        "        # TODO: Extract Multiple classes: How to to the train,val split,\n",
        "        # Do we need to to a class balance???\n",
        "        x_train = np.take(x_train, tf.where(y_train == classes), axis=0)\n",
        "        x_val = np.take(x_val, tf.where(y_val == classes), axis=0)\n",
        "        x_test = np.take(x_test, tf.where(y_test == classes), axis=0)\n",
        "\n",
        "    # reshape if necessary\n",
        "    if channels:\n",
        "        x_train = tf.reshape(x_train, (x_train.shape[0], 28, 28, 1))\n",
        "        x_val = tf.reshape(x_val, (x_val.shape[0], 28, 28, 1))\n",
        "        x_test = tf.reshape(x_test, (x_test.shape[0], 28, 28, 1))\n",
        "    else:\n",
        "        x_train = tf.reshape(x_train, (x_train.shape[0], 28, 28))\n",
        "        x_val = tf.reshape(x_val, (x_val.shape[0], 28, 28))\n",
        "        x_test = tf.reshape(x_test, (x_test.shape[0], 28, 28))\n",
        "\n",
        "    if shuffle:\n",
        "        shuffled_train_data = tf.data.Dataset.from_tensor_slices(\n",
        "            x_train\n",
        "        ).shuffle(1000)\n",
        "\n",
        "    batched_train_data = shuffled_train_data.batch(batch_size)\n",
        "    batched_val_data = tf.data.Dataset.from_tensor_slices(x_val).batch(\n",
        "        batch_size\n",
        "    )\n",
        "    batched_test_data = tf.data.Dataset.from_tensor_slices(x_test).batch(\n",
        "        batch_size\n",
        "    )\n",
        "\n",
        "    return batched_train_data, batched_val_data, batched_test_data, interval"
      ],
      "execution_count": 2,
      "outputs": []
    },
    {
      "cell_type": "code",
      "metadata": {
        "id": "JHbZuR6h85ep"
      },
      "source": [
        "@tf.function\n",
        "def nll(distribution, data):\n",
        "    \"\"\"\n",
        "    Computes the negative log liklihood loss for a given distribution and given\n",
        "    data.\n",
        "    \n",
        "    :param distribution: TensorFlow distribution, e.g.\n",
        "      tf.TransformedDistribution.\n",
        "    :param data: Data or a batch from data.\n",
        "    :return: Negative Log Likelihodd loss.\n",
        "    \"\"\"\n",
        "    return -tf.reduce_mean(distribution.log_prob(data))\n",
        "\n",
        "@tf.function\n",
        "def train_density_estimation(distribution, optimizer, batch):\n",
        "    \"\"\"\n",
        "    Train function for density estimation normalizing flows.\n",
        "    \n",
        "    :param distribution: TensorFlow distribution, e.g.\n",
        "      tf.TransformedDistribution.\n",
        "    :param optimizer: TensorFlow keras optimizer, e.g.\n",
        "      tf.keras.optimizers.Adam.\n",
        "    :param batch: Batch of the train data.\n",
        "    :return: loss.\n",
        "    \"\"\"\n",
        "    with tf.GradientTape() as tape:\n",
        "        tape.watch(distribution.trainable_variables)\n",
        "        loss = -tf.reduce_mean(\n",
        "            distribution.log_prob(batch)\n",
        "        )  # negative log likelihood\n",
        "    gradients = tape.gradient(loss, distribution.trainable_variables)\n",
        "    optimizer.apply_gradients(zip(gradients, distribution.trainable_variables))\n",
        "\n",
        "    return loss"
      ],
      "execution_count": 3,
      "outputs": []
    },
    {
      "cell_type": "code",
      "metadata": {
        "id": "57Xux02m85eq"
      },
      "source": [
        "class NN(tf.keras.layers.Layer):\n",
        "    \"\"\"\n",
        "    Neural Network Architecture for calcualting s and t for Real-NVP\n",
        "\n",
        "    :param input_shape: shape of the data coming in the layer\n",
        "    :param hidden_units: Python list-like of non-negative integers, specifying\n",
        "      the number of units in each hidden layer.\n",
        "    :param activation: Activation of the hidden units\n",
        "    \"\"\"\n",
        "\n",
        "    def __init__(\n",
        "        self, input_shape, n_hidden=[512, 512], activation=\"relu\", name=\"nn\"\n",
        "    ):\n",
        "        super().__init__(name=name)\n",
        "        layer_list = []\n",
        "        for i, hidden in enumerate(n_hidden):\n",
        "            layer_list.append(\n",
        "                tf.keras.layers.Dense(hidden, activation=activation)\n",
        "            )\n",
        "        self.layer_list = layer_list\n",
        "        self.log_s_layer = tf.keras.layers.Dense(\n",
        "            input_shape, activation=\"tanh\", name=\"log_s\")\n",
        "        self.t_layer = tf.keras.layers.Dense(input_shape, name=\"t\")\n",
        "\n",
        "    def call(self, x):\n",
        "        y = x\n",
        "        for layer in self.layer_list:\n",
        "            y = layer(y)\n",
        "        log_s = self.log_s_layer(y)\n",
        "        t = self.t_layer(y)\n",
        "        return log_s, t\n",
        "\n",
        "\n",
        "class RealNVP(tfb.Bijector):\n",
        "    \"\"\"\n",
        "    Implementation of a Real-NVP for Denisty Estimation. L. Dinh “Density\n",
        "    estimation using Real NVP,” 2016. This implementation only works for 1D\n",
        "    arrays.\n",
        "\n",
        "    :param input_shape: shape of the data coming in the layer\n",
        "    :param hidden_units: Python list-like of non-negative integers, specifying\n",
        "      the number of units in each hidden layer.\n",
        "    \"\"\"\n",
        "\n",
        "    def __init__(\n",
        "        self,\n",
        "        input_shape,\n",
        "        n_hidden=[512, 512],\n",
        "        forward_min_event_ndims=1,\n",
        "        validate_args: bool = False,\n",
        "        name=\"real_nvp\",\n",
        "    ):\n",
        "        super().__init__(\n",
        "            validate_args=validate_args,\n",
        "            forward_min_event_ndims=forward_min_event_ndims,\n",
        "            name=name,\n",
        "        )\n",
        "\n",
        "        assert input_shape % 2 == 0\n",
        "        input_shape = input_shape // 2\n",
        "        nn_layer = NN(input_shape, n_hidden)\n",
        "        x = tf.keras.Input(input_shape)\n",
        "        log_s, t = nn_layer(x)\n",
        "        self.nn = tf.keras.Model(x, [log_s, t], name=\"nn\")\n",
        "\n",
        "    def _bijector_fn(self, x):\n",
        "        log_s, t = self.nn(x)\n",
        "        return tfb.AffineScalar(shift=t, log_scale=log_s)\n",
        "\n",
        "    def _forward(self, x):\n",
        "        x_a, x_b = tf.split(x, 2, axis=-1)\n",
        "        y_b = x_b\n",
        "        y_a = self._bijector_fn(x_b).forward(x_a)\n",
        "        y = tf.concat([y_a, y_b], axis=-1)\n",
        "        return y\n",
        "\n",
        "    def _inverse(self, y):\n",
        "        y_a, y_b = tf.split(y, 2, axis=-1)\n",
        "        x_b = y_b\n",
        "        x_a = self._bijector_fn(y_b).inverse(y_a)\n",
        "        x = tf.concat([x_a, x_b], axis=-1)\n",
        "        return x\n",
        "\n",
        "    def _forward_log_det_jacobian(self, x):\n",
        "        x_a, x_b = tf.split(x, 2, axis=-1)\n",
        "        return self._bijector_fn(x_b).forward_log_det_jacobian(\n",
        "            x_a, event_ndims=1\n",
        "        )\n",
        "\n",
        "    def _inverse_log_det_jacobian(self, y):\n",
        "        y_a, y_b = tf.split(y, 2, axis=-1)\n",
        "        return self._bijector_fn(y_b).inverse_log_det_jacobian(\n",
        "            y_a, event_ndims=1\n",
        "        )"
      ],
      "execution_count": 4,
      "outputs": []
    },
    {
      "source": [
        "## Load and process data"
      ],
      "cell_type": "markdown",
      "metadata": {}
    },
    {
      "cell_type": "code",
      "metadata": {
        "id": "8RiB9XMw85ez"
      },
      "source": [
        "category = 2\n",
        "train_data, val_data, test_data, _ = load_and_preprocess_mnist(\n",
        "    logit_space=True, batch_size=128, shuffle=True, classes=category\n",
        ")"
      ],
      "execution_count": 5,
      "outputs": []
    },
    {
      "cell_type": "code",
      "metadata": {
        "id": "SQSVoJHv85e0"
      },
      "source": [
        "category = \"all\"\n",
        "train_data, val_data, test_data, _ = load_and_preprocess_mnist(\n",
        "    logit_space=True, batch_size=128, shuffle=True\n",
        ")"
      ],
      "execution_count": 6,
      "outputs": []
    },
    {
      "cell_type": "code",
      "metadata": {
        "id": "pDKJt3HX85e0"
      },
      "source": [
        "mnist_shape = (28, 28, 1)\n",
        "size = 28\n",
        "input_shape = size*size\n",
        "permutation = tf.cast(\n",
        "    np.concatenate(\n",
        "        (np.arange(input_shape/2,input_shape),np.arange(0,input_shape/2))\n",
        "    ),\n",
        "    tf.int32\n",
        ")\n",
        "base_dist = tfd.MultivariateNormalDiag(loc=tf.zeros(input_shape, tf.float32))"
      ],
      "execution_count": 7,
      "outputs": []
    },
    {
      "source": [
        "## Configuration"
      ],
      "cell_type": "markdown",
      "metadata": {}
    },
    {
      "cell_type": "code",
      "metadata": {
        "id": "BUpWGBAY85e0"
      },
      "source": [
        "n_images = 10\n",
        "dataset = \"mnist\"\n",
        "exp_number = 1\n",
        "max_epochs = 200\n",
        "layers = 5\n",
        "shape = [256, 256]\n",
        "base_lr = 1e-4\n",
        "end_lr = 1e-5"
      ],
      "execution_count": 8,
      "outputs": []
    },
    {
      "source": [
        "## Build model"
      ],
      "cell_type": "markdown",
      "metadata": {}
    },
    {
      "cell_type": "code",
      "metadata": {
        "id": "-p3FVipM85e1"
      },
      "source": [
        "bijectors = []\n",
        "alpha = 1e-3\n",
        "\n",
        "for i in range(layers):\n",
        "    bijectors.append(tfb.BatchNormalization())\n",
        "    bijectors.append(RealNVP(input_shape=input_shape, n_hidden=shape))\n",
        "    bijectors.append(tfb.Permute(permutation))\n",
        "    \n",
        "bijectors.append(\n",
        "    tfb.Reshape(event_shape_out=(size, size), event_shape_in=(size * size,))\n",
        ")\n",
        "\n",
        "bijector = tfb.Chain(\n",
        "    bijectors=list(reversed(bijectors)), name='chain_of_real_nvp'\n",
        ")\n",
        "\n",
        "flow = tfd.TransformedDistribution(\n",
        "    distribution=base_dist,\n",
        "    bijector=bijector\n",
        ")\n",
        "\n",
        "# number of trainable variables\n",
        "n_trainable_variables = len(flow.trainable_variables)"
      ],
      "execution_count": 9,
      "outputs": []
    },
    {
      "cell_type": "code",
      "metadata": {
        "id": "JRuqd_Po85e1"
      },
      "source": [
        "learning_rate_fn = tf.keras.optimizers.schedules.PolynomialDecay(\n",
        "    base_lr, max_epochs, end_lr, power=0.5)\n",
        "\n",
        "checkpoint_directory = \"{}/tmp_{}_{}_{}_{}_{}\".format(\n",
        "    dataset, layers, shape[0], shape[1], exp_number, category\n",
        ")\n",
        "checkpoint_prefix = os.path.join(checkpoint_directory, \"ckpt\")\n",
        "\n",
        "opt = tf.keras.optimizers.Adam(learning_rate=learning_rate_fn)\n",
        "checkpoint = tf.train.Checkpoint(optimizer=opt, model=flow)"
      ],
      "execution_count": 10,
      "outputs": []
    },
    {
      "source": [
        "## Training"
      ],
      "cell_type": "markdown",
      "metadata": {}
    },
    {
      "cell_type": "code",
      "metadata": {
        "id": "-H_g7E1y85e2",
        "colab": {
          "base_uri": "https://localhost:8080/"
        },
        "outputId": "9632a1c9-8693-412f-9e7f-5002a1b37ac4"
      },
      "source": [
        "global_step = []\n",
        "train_losses = []\n",
        "val_losses = []\n",
        "# high value to ensure that first loss < min_loss\n",
        "min_val_loss = tf.convert_to_tensor(np.inf, dtype=tf.float32)  \n",
        "min_train_loss = tf.convert_to_tensor(np.inf, dtype=tf.float32)\n",
        "min_val_epoch = 0\n",
        "min_train_epoch = 0\n",
        "delta_stop = 50  # threshold for early stopping\n",
        "\n",
        "t_start = time.time()  # start time\n",
        "\n",
        "# start training\n",
        "for i in range(max_epochs):\n",
        "\n",
        "    train_data.shuffle(buffer_size=1000)\n",
        "    batch_train_losses = []\n",
        "    for batch in train_data:\n",
        "        batch_loss = train_density_estimation(flow, opt, batch)\n",
        "        batch_train_losses.append(batch_loss)\n",
        "\n",
        "    train_loss = tf.reduce_mean(batch_train_losses)\n",
        "\n",
        "    if i % int(1) == 0:\n",
        "        batch_val_losses = []\n",
        "        for batch in val_data:\n",
        "            batch_loss = nll(flow, batch)\n",
        "            batch_val_losses.append(batch_loss)\n",
        "\n",
        "        val_loss = tf.reduce_mean(batch_val_losses)\n",
        "\n",
        "        global_step.append(i)\n",
        "        train_losses.append(train_loss)\n",
        "        val_losses.append(val_loss)\n",
        "        if i % 10 == 0:\n",
        "            print(\n",
        "                f\"{i:3d}, train_loss: {train_loss:12.6f}, \"\n",
        "                f\"val_loss: {val_loss:12.6f}\"\n",
        "            )\n",
        "\n",
        "        if train_loss < min_train_loss:\n",
        "            min_train_loss = train_loss\n",
        "            min_train_epoch = i\n",
        "\n",
        "        if val_loss < min_val_loss:\n",
        "            min_val_loss = val_loss\n",
        "            min_val_epoch = i\n",
        "            checkpoint.write(file_prefix=checkpoint_prefix)\n",
        "\n",
        "        # no decrease in min_val_loss for \"delta_stop epochs\"\n",
        "        elif i - min_val_epoch > delta_stop:  \n",
        "            break\n",
        "\n",
        "train_time = time.time() - t_start\n",
        "\n",
        "print(f\"Training time: {train_time}\")\n",
        "print(f\"Min val loss: {min_val_loss} at epoch: {min_val_epoch}\")\n",
        "print(f\"Last val loss: {val_loss} at epoch: {i}\")\n",
        "print(f\"Min train loss: {min_train_loss} at epoch: {min_train_epoch}\")\n",
        "print(f\"Last train loss: {train_loss} at epoch: {i}\")"
      ],
      "execution_count": 11,
      "outputs": [
        {
          "output_type": "stream",
          "text": [
            "WARNING:tensorflow:From <ipython-input-4-91dcb2668405>:68: AffineScalar.__init__ (from tensorflow_probability.python.bijectors.affine_scalar) is deprecated and will be removed after 2020-01-01.\n",
            "Instructions for updating:\n",
            "`AffineScalar` bijector is deprecated; please use `tfb.Shift(loc)(tfb.Scale(...))` instead.\n"
          ],
          "name": "stdout"
        },
        {
          "output_type": "stream",
          "text": [
            "/usr/local/lib/python3.6/dist-packages/tensorflow/python/keras/engine/base_layer.py:2273: UserWarning: `layer.apply` is deprecated and will be removed in a future version. Please use `layer.__call__` method instead.\n",
            "  warnings.warn('`layer.apply` is deprecated and '\n"
          ],
          "name": "stderr"
        },
        {
          "output_type": "stream",
          "text": [
            " 0, train_loss:   934.622498, val_loss:   633.685547\n",
            "10, train_loss:  -301.913330, val_loss:  -241.556763\n",
            "20, train_loss:  -531.578247, val_loss:  -461.721375\n",
            "30, train_loss:  -683.400574, val_loss:  -583.579407\n",
            "40, train_loss:  -807.115479, val_loss:  -682.403748\n",
            "50, train_loss:  -912.496155, val_loss:  -804.089294\n",
            "60, train_loss: -1011.752502, val_loss:  -875.467468\n",
            "70, train_loss: -1085.121948, val_loss:  -965.658447\n",
            "80, train_loss: -1165.078491, val_loss: -1045.054932\n",
            "90, train_loss: -1241.736328, val_loss: -1112.344116\n",
            "100, train_loss: -1313.417969, val_loss: -1167.990479\n",
            "110, train_loss: -1383.647217, val_loss: -1217.543457\n",
            "120, train_loss: -1449.916382, val_loss: -1257.981445\n",
            "130, train_loss: -1505.733887, val_loss: -1302.328247\n",
            "140, train_loss: -1574.562988, val_loss: -1406.439575\n",
            "150, train_loss: -1633.193359, val_loss: -1465.922119\n",
            "160, train_loss: -1696.783569, val_loss: -1514.354980\n",
            "170, train_loss: -1749.629272, val_loss: -1565.940430\n",
            "180, train_loss: -1790.681763, val_loss: -1606.343506\n",
            "190, train_loss: -1834.808960, val_loss: -1654.191040\n",
            "Training time: 631.0639736652374\n",
            "Min val loss: -1715.8482666015625 at epoch: 199\n",
            "Last val loss: -1715.8482666015625 at epoch: 199\n",
            "Min train loss: -1884.6734619140625 at epoch: 199\n",
            "Last train loss: -1884.6734619140625 at epoch: 199\n"
          ],
          "name": "stdout"
        }
      ]
    },
    {
      "source": [
        "## Test"
      ],
      "cell_type": "markdown",
      "metadata": {}
    },
    {
      "cell_type": "code",
      "metadata": {
        "id": "nb8RU96a85e5",
        "colab": {
          "base_uri": "https://localhost:8080/"
        },
        "outputId": "adc0636d-c3fc-45dd-c2a0-42b276ded3c9"
      },
      "source": [
        "# load best model with min validation loss\r\n",
        "checkpoint.restore(checkpoint_prefix)\r\n",
        "\r\n",
        "# perform on test dataset\r\n",
        "t_start = time.time()\r\n",
        "\r\n",
        "test_losses = []\r\n",
        "for batch in test_data:\r\n",
        "    batch_loss = nll(flow, batch)\r\n",
        "    test_losses.append(batch_loss)\r\n",
        "\r\n",
        "test_loss = tf.reduce_mean(test_losses)\r\n",
        "\r\n",
        "test_time = time.time() - t_start\r\n",
        "\r\n",
        "save_dir = \"{}/sampling_{}_{}_{}_{}/\".format(\r\n",
        "    dataset, layers, shape[0], shape[1], category\r\n",
        ")\r\n",
        "\r\n",
        "if not os.path.isdir(save_dir):\r\n",
        "    os.mkdir(save_dir)\r\n",
        "for j in range(n_images):\r\n",
        "    plt.figure()\r\n",
        "    data = flow.sample(1)\r\n",
        "    data = inverse_logit(data)\r\n",
        "    data = tf.reshape(data, (1, size, size))\r\n",
        "    plt.imshow(data[0], cmap='gray')\r\n",
        "    plt.savefig(\r\n",
        "        \"{}/{}_{}_i{}.png\".format(save_dir, exp_number, min_val_epoch, j)\r\n",
        "    )\r\n",
        "    plt.close()\r\n",
        "\r\n",
        "# remove checkpoint\r\n",
        "filelist = [f for f in os.listdir(checkpoint_directory)]\r\n",
        "for f in filelist:\r\n",
        "    os.remove(os.path.join(checkpoint_directory, f))\r\n",
        "os.removedirs(checkpoint_directory)\r\n",
        "\r\n",
        "print(f\"Test loss: {test_loss} at epoch: {i}\")\r\n",
        "print(f\"Average test log likelihood: {-test_loss} at epoch: {i}\")\r\n",
        "print(f\"Test time: {test_time}\")"
      ],
      "execution_count": 13,
      "outputs": [
        {
          "output_type": "stream",
          "text": [
            "Test loss: -1677.56689453125 at epoch: 199\n",
            "Average test log likelihood: 1677.56689453125 at epoch: 199\n",
            "Test time: 0.2717106342315674\n"
          ],
          "name": "stdout"
        }
      ]
    }
  ]
}
